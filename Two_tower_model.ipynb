{
  "nbformat": 4,
  "nbformat_minor": 0,
  "metadata": {
    "colab": {
      "provenance": [],
      "gpuType": "T4"
    },
    "kernelspec": {
      "name": "python3",
      "display_name": "Python 3"
    },
    "language_info": {
      "name": "python"
    },
    "accelerator": "GPU"
  },
  "cells": [
    {
      "cell_type": "code",
      "source": [
        "import pandas as pd\n",
        "from tensorflow.keras.layers import Input, Embedding, Concatenate, Flatten, Dense, Dropout\n",
        "from tensorflow.keras.models import Model\n",
        "from sklearn.preprocessing import StandardScaler\n",
        "from sklearn.model_selection import train_test_split\n",
        "from tensorflow.keras.metrics import RootMeanSquaredError, MeanAbsoluteError\n",
        "import matplotlib.pyplot as plt\n",
        "import numpy as np\n",
        "import tensorflow as tf"
      ],
      "metadata": {
        "id": "7fFffPpIyojs"
      },
      "execution_count": 5,
      "outputs": []
    },
    {
      "cell_type": "code",
      "source": [
        "data = pd.read_csv(\"Final_Data_ratings 1.csv\")"
      ],
      "metadata": {
        "id": "9_v9EuOKyzOY"
      },
      "execution_count": 6,
      "outputs": []
    },
    {
      "cell_type": "code",
      "source": [
        "data.columns"
      ],
      "metadata": {
        "colab": {
          "base_uri": "https://localhost:8080/"
        },
        "id": "ZTFtWm3uAgrx",
        "outputId": "b64af766-6544-45cb-af25-1492cbb76165"
      },
      "execution_count": 34,
      "outputs": [
        {
          "output_type": "execute_result",
          "data": {
            "text/plain": [
              "Index(['userid', 'placeid', 'lng', 'lat', 'place_photos_count',\n",
              "       'place_checkins_count', 'place_radius_meters', 'user_pins_count',\n",
              "       'user_friends_count', 'user_checkin_num', 'user_trips_count',\n",
              "       'place_name', 'ratings'],\n",
              "      dtype='object')"
            ]
          },
          "metadata": {},
          "execution_count": 34
        }
      ]
    },
    {
      "cell_type": "code",
      "execution_count": 7,
      "metadata": {
        "id": "CsFvlP0MuQYP",
        "colab": {
          "base_uri": "https://localhost:8080/",
          "height": 903
        },
        "outputId": "8ac0a482-b762-478c-d716-81e84e97b3f4"
      },
      "outputs": [
        {
          "output_type": "stream",
          "name": "stderr",
          "text": [
            "/usr/local/lib/python3.10/dist-packages/sklearn/base.py:432: UserWarning: X has feature names, but StandardScaler was fitted without feature names\n",
            "  warnings.warn(\n",
            "/usr/local/lib/python3.10/dist-packages/sklearn/base.py:432: UserWarning: X has feature names, but StandardScaler was fitted without feature names\n",
            "  warnings.warn(\n"
          ]
        },
        {
          "output_type": "stream",
          "name": "stdout",
          "text": [
            "7122/7122 [==============================] - 222s 30ms/step - loss: 2.7310 - root_mean_squared_error: 1.6526 - mean_absolute_error: 0.8736 - val_loss: 2.4515 - val_root_mean_squared_error: 1.5657 - val_mean_absolute_error: 0.8245\n",
            "   3/7122 [..............................] - ETA: 3:13 - loss: 4.0487 - root_mean_squared_error: 2.0121 - mean_absolute_error: 1.0551"
          ]
        },
        {
          "output_type": "stream",
          "name": "stderr",
          "text": [
            "/usr/local/lib/python3.10/dist-packages/sklearn/base.py:432: UserWarning: X has feature names, but StandardScaler was fitted without feature names\n",
            "  warnings.warn(\n",
            "/usr/local/lib/python3.10/dist-packages/sklearn/base.py:432: UserWarning: X has feature names, but StandardScaler was fitted without feature names\n",
            "  warnings.warn(\n"
          ]
        },
        {
          "output_type": "stream",
          "name": "stdout",
          "text": [
            "7122/7122 [==============================] - 202s 28ms/step - loss: 2.3707 - root_mean_squared_error: 1.5397 - mean_absolute_error: 0.7795 - val_loss: 2.4568 - val_root_mean_squared_error: 1.5674 - val_mean_absolute_error: 0.8079\n",
            "   3/7122 [..............................] - ETA: 3:12 - loss: 0.8381 - root_mean_squared_error: 0.9155 - mean_absolute_error: 0.5778"
          ]
        },
        {
          "output_type": "stream",
          "name": "stderr",
          "text": [
            "/usr/local/lib/python3.10/dist-packages/sklearn/base.py:432: UserWarning: X has feature names, but StandardScaler was fitted without feature names\n",
            "  warnings.warn(\n",
            "/usr/local/lib/python3.10/dist-packages/sklearn/base.py:432: UserWarning: X has feature names, but StandardScaler was fitted without feature names\n",
            "  warnings.warn(\n"
          ]
        },
        {
          "output_type": "stream",
          "name": "stdout",
          "text": [
            "7122/7122 [==============================] - 200s 28ms/step - loss: 2.2030 - root_mean_squared_error: 1.4842 - mean_absolute_error: 0.7291 - val_loss: 2.4548 - val_root_mean_squared_error: 1.5668 - val_mean_absolute_error: 0.7847\n",
            "   3/7122 [..............................] - ETA: 3:10 - loss: 1.7422 - root_mean_squared_error: 1.3199 - mean_absolute_error: 0.6116"
          ]
        },
        {
          "output_type": "stream",
          "name": "stderr",
          "text": [
            "/usr/local/lib/python3.10/dist-packages/sklearn/base.py:432: UserWarning: X has feature names, but StandardScaler was fitted without feature names\n",
            "  warnings.warn(\n",
            "/usr/local/lib/python3.10/dist-packages/sklearn/base.py:432: UserWarning: X has feature names, but StandardScaler was fitted without feature names\n",
            "  warnings.warn(\n"
          ]
        },
        {
          "output_type": "stream",
          "name": "stdout",
          "text": [
            "7122/7122 [==============================] - 203s 29ms/step - loss: 2.0746 - root_mean_squared_error: 1.4403 - mean_absolute_error: 0.7063 - val_loss: 2.4875 - val_root_mean_squared_error: 1.5772 - val_mean_absolute_error: 0.8211\n",
            "   3/7122 [..............................] - ETA: 3:17 - loss: 2.3482 - root_mean_squared_error: 1.5324 - mean_absolute_error: 0.8178"
          ]
        },
        {
          "output_type": "stream",
          "name": "stderr",
          "text": [
            "/usr/local/lib/python3.10/dist-packages/sklearn/base.py:432: UserWarning: X has feature names, but StandardScaler was fitted without feature names\n",
            "  warnings.warn(\n",
            "/usr/local/lib/python3.10/dist-packages/sklearn/base.py:432: UserWarning: X has feature names, but StandardScaler was fitted without feature names\n",
            "  warnings.warn(\n"
          ]
        },
        {
          "output_type": "stream",
          "name": "stdout",
          "text": [
            "7122/7122 [==============================] - 202s 28ms/step - loss: 1.9979 - root_mean_squared_error: 1.4135 - mean_absolute_error: 0.6895 - val_loss: 2.5543 - val_root_mean_squared_error: 1.5982 - val_mean_absolute_error: 0.7268\n"
          ]
        },
        {
          "output_type": "display_data",
          "data": {
            "text/plain": [
              "<Figure size 640x480 with 1 Axes>"
            ],
            "image/png": "[encoded data removed]"
          },
          "metadata": {}
        }
      ],
      "source": [
        "# Define embedding dimensions\n",
        "embedding_dim = 10\n",
        "\n",
        "# User input\n",
        "user_input = Input(shape=(1,), name='user_input')\n",
        "user_embedding = Embedding(input_dim=data['userid'].max()+1, output_dim=embedding_dim)(user_input)\n",
        "user_embedding = tf.keras.layers.Flatten()(user_embedding)\n",
        "user_features_input = Input(shape=(3,), name='user_features_input')\n",
        "\n",
        "# Item input\n",
        "item_input = Input(shape=(1,), name='item_input')\n",
        "item_embedding = Embedding(input_dim=data['placeid'].max()+1, output_dim=embedding_dim)(item_input)\n",
        "item_embedding = tf.keras.layers.Flatten()(item_embedding)\n",
        "item_features_input = Input(shape=(4,), name='item_features_input')\n",
        "\n",
        "# Concatenate user and item embeddings with user and item features\n",
        "user_concat = Concatenate()([user_embedding, user_features_input])\n",
        "item_concat = Concatenate()([item_embedding, item_features_input])\n",
        "\n",
        "# Merge towers with a dense layer\n",
        "merged = Concatenate()([user_concat, item_concat])\n",
        "merged = Dropout(0.5)(merged)\n",
        "merged = Dense(64, activation='relu')(merged)  # Additional dense layer\n",
        "merged = Dropout(0.3)(merged)\n",
        "merged = Dense(32, activation='relu')(merged)\n",
        "\n",
        "# Output layer\n",
        "output = 10*Dense(1, activation='sigmoid')(merged)\n",
        "\n",
        "\n",
        "# Build model\n",
        "model = Model(inputs=[user_input, user_features_input, item_input, item_features_input], outputs=output)\n",
        "\n",
        "# Compile the model\n",
        "model.compile(optimizer='adam', loss='mean_squared_error', metrics=[RootMeanSquaredError(), MeanAbsoluteError()])\n",
        "\n",
        "# Prepare data\n",
        "user_features = data[['user_pins_count', 'user_checkin_num', 'user_trips_count']].values\n",
        "item_features = data[['lat','lng','place_photos_count', 'place_checkins_count']].values\n",
        "ratings = data['ratings'].values\n",
        "\n",
        "# Standardize user and item features\n",
        "scaler_user = StandardScaler()\n",
        "scaler_item = StandardScaler()\n",
        "\n",
        "user_features_scaled = scaler_user.fit_transform(user_features)\n",
        "item_features_scaled = scaler_item.fit_transform(item_features)\n",
        "\n",
        "# Train-test split with random_state=42\n",
        "train_df, test_df = train_test_split(data, test_size=0.2, random_state=42)\n",
        "# Lists to store training and validation loss\n",
        "train_loss_history = []\n",
        "val_loss_history = []\n",
        "\n",
        "# Train the model and store loss history\n",
        "for epoch in range(5):\n",
        "    history = model.fit(\n",
        "        [train_df['userid'], user_features_scaled[train_df.index], train_df['placeid'], item_features_scaled[train_df.index]],\n",
        "        ratings[train_df.index],\n",
        "        epochs=1,\n",
        "        batch_size=16,\n",
        "        validation_data=(\n",
        "            [test_df['userid'], scaler_user.transform(test_df[['user_pins_count', 'user_checkin_num', 'user_trips_count']]),\n",
        "             test_df['placeid'], scaler_item.transform(test_df[['lat','lng','place_photos_count', 'place_checkins_count']])],\n",
        "            test_df['ratings']\n",
        "        )\n",
        "    )\n",
        "\n",
        "    # Store training and validation loss for each epoch\n",
        "    train_loss_history.extend(history.history['loss'])\n",
        "    val_loss_history.extend(history.history['val_loss'])\n",
        "\n",
        "# Plot training and validation loss\n",
        "plt.plot(train_loss_history, label='Training Loss')\n",
        "plt.plot(val_loss_history, label='Testing Loss')\n",
        "plt.xlabel('Epoch')\n",
        "plt.ylabel('Loss')\n",
        "plt.legend()\n",
        "plt.show()"
      ]
    },
    {
      "cell_type": "code",
      "source": [
        "# Evaluate the model on the testing set\n",
        "test_metrics = model.evaluate(\n",
        "    [test_df['userid'], scaler_user.transform(test_df[['user_pins_count', 'user_checkin_num', 'user_trips_count']]),\n",
        "     test_df['placeid'], scaler_item.transform(test_df[['lat','lng','place_photos_count', 'place_checkins_count']])],\n",
        "    test_df['ratings'],\n",
        "    batch_size=16\n",
        ")\n",
        "\n",
        "# Display evaluation metrics\n",
        "print(\"Testing RMSE:\", test_metrics[1])\n",
        "print(\"Testing MAE:\", test_metrics[2])"
      ],
      "metadata": {
        "colab": {
          "base_uri": "https://localhost:8080/"
        },
        "id": "y_5yU7OKzqL6",
        "outputId": "e78a9374-a215-434d-d854-43a503db6df8"
      },
      "execution_count": 8,
      "outputs": [
        {
          "output_type": "stream",
          "name": "stdout",
          "text": [
            "  30/1781 [..............................] - ETA: 6s - loss: 2.9187 - root_mean_squared_error: 1.7084 - mean_absolute_error: 0.7502"
          ]
        },
        {
          "output_type": "stream",
          "name": "stderr",
          "text": [
            "/usr/local/lib/python3.10/dist-packages/sklearn/base.py:432: UserWarning: X has feature names, but StandardScaler was fitted without feature names\n",
            "  warnings.warn(\n",
            "/usr/local/lib/python3.10/dist-packages/sklearn/base.py:432: UserWarning: X has feature names, but StandardScaler was fitted without feature names\n",
            "  warnings.warn(\n"
          ]
        },
        {
          "output_type": "stream",
          "name": "stdout",
          "text": [
            "1781/1781 [==============================] - 7s 4ms/step - loss: 2.5543 - root_mean_squared_error: 1.5982 - mean_absolute_error: 0.7268\n",
            "Testing RMSE: 1.5982083082199097\n",
            "Testing MAE: 0.7268167734146118\n"
          ]
        }
      ]
    },
    {
      "cell_type": "code",
      "source": [
        "from collections import defaultdict\n",
        "\n",
        "def precision_recall_at_k(model, test_df, k=10, threshold=3.5):\n",
        "    \"\"\"\n",
        "    Return precision and recall at k metrics for each user using the provided model.\n",
        "    \"\"\"\n",
        "    test_predictions = model.predict(\n",
        "        [test_df['userid'], scaler_user.transform(test_df[['user_pins_count', 'user_checkin_num', 'user_trips_count']]),\n",
        "         test_df['placeid'], scaler_item.transform(test_df[['lat','lng','place_photos_count', 'place_checkins_count']])],\n",
        "        batch_size=16\n",
        "    )\n",
        "\n",
        "    # Set a threshold for relevance\n",
        "    true_labels = (test_df['ratings'] >= threshold).astype(int)\n",
        "\n",
        "    # Create a dictionary to store estimated and true ratings for each user\n",
        "    user_est_true = defaultdict(list)\n",
        "    i=0\n",
        "    for _, row in test_df.iterrows():\n",
        "        uid = row['userid']\n",
        "        est = test_predictions[i][0]\n",
        "        true_r = row['ratings']\n",
        "        user_est_true[uid].append((est, true_r))\n",
        "        i += 1\n",
        "\n",
        "    precisions = dict()\n",
        "    recalls = dict()\n",
        "\n",
        "    for uid, user_ratings in user_est_true.items():\n",
        "        # Sort user ratings by estimated value\n",
        "        user_ratings.sort(key=lambda x: x[0], reverse=True)\n",
        "\n",
        "        # Number of relevant items\n",
        "        n_rel = sum((true_r >= threshold) for (_, true_r) in user_ratings)\n",
        "\n",
        "        # Number of recommended items in top k\n",
        "        n_rec_k = sum((est >= threshold) for (est, _) in user_ratings[:k])\n",
        "\n",
        "        # Number of relevant and recommended items in top k\n",
        "        n_rel_and_rec_k = sum(((true_r >= threshold) and (est >= threshold)) for (est, true_r) in user_ratings[:k])\n",
        "\n",
        "        # Precision@K: Proportion of recommended items that are relevant\n",
        "        # When n_rec_k is 0, Precision is undefined. We here set it to 0.\n",
        "        precisions[uid] = n_rel_and_rec_k / n_rec_k if n_rec_k != 0 else 0\n",
        "\n",
        "        # Recall@K: Proportion of relevant items that are recommended\n",
        "        # When n_rel is 0, Recall is undefined. We here set it to 0.\n",
        "        recalls[uid] = n_rel_and_rec_k / n_rel if n_rel != 0 else 0\n",
        "\n",
        "    return precisions, recalls\n",
        "\n",
        "# Example usage:\n",
        "precisions, recalls = precision_recall_at_k(model, test_df, k=10, threshold=0.0001)\n",
        "\n",
        "# Display the results\n",
        "precision = np.mean(list(precisions.values()))\n",
        "recall = np.mean(list(recalls.values()))\n",
        "print(\"Precision@10 for Two tower model:\", precision)\n",
        "print(\"Recall@10 for Two tower model:\", recall)\n",
        "print(\"F1 score@10 for Two tower model:\", 2*precision*recall/(precision+recall))"
      ],
      "metadata": {
        "colab": {
          "base_uri": "https://localhost:8080/"
        },
        "id": "lDm7nh-w39dN",
        "outputId": "73de50b5-ab3e-4c38-cc1e-35becfb18c87"
      },
      "execution_count": 23,
      "outputs": [
        {
          "output_type": "stream",
          "name": "stdout",
          "text": [
            "  41/1781 [..............................] - ETA: 4s"
          ]
        },
        {
          "output_type": "stream",
          "name": "stderr",
          "text": [
            "/usr/local/lib/python3.10/dist-packages/sklearn/base.py:432: UserWarning: X has feature names, but StandardScaler was fitted without feature names\n",
            "  warnings.warn(\n",
            "/usr/local/lib/python3.10/dist-packages/sklearn/base.py:432: UserWarning: X has feature names, but StandardScaler was fitted without feature names\n",
            "  warnings.warn(\n"
          ]
        },
        {
          "output_type": "stream",
          "name": "stdout",
          "text": [
            "1781/1781 [==============================] - 4s 2ms/step\n",
            "Precision@10: 0.12937761920942348\n",
            "Recall@10: 0.41194409905419077\n",
            "F1 score@10: 0.19691191018147078\n"
          ]
        }
      ]
    },
    {
      "cell_type": "code",
      "source": [],
      "metadata": {
        "id": "-NxNszxp7Lug"
      },
      "execution_count": null,
      "outputs": []
    },
    {
      "cell_type": "code",
      "source": [
        "test_predictions = model.predict(\n",
        "        [test_df['userid'], scaler_user.transform(test_df[['user_pins_count', 'user_checkin_num', 'user_trips_count']]),\n",
        "         test_df['placeid'], scaler_item.transform(test_df[['lat','lng','place_photos_count', 'place_checkins_count']])],\n",
        "        batch_size=16\n",
        "    )"
      ],
      "metadata": {
        "colab": {
          "base_uri": "https://localhost:8080/"
        },
        "id": "BR4eWYlO4KUp",
        "outputId": "04564876-47a6-41ff-88b0-5756966a6baa"
      },
      "execution_count": 10,
      "outputs": [
        {
          "output_type": "stream",
          "name": "stdout",
          "text": [
            "  29/1781 [..............................] - ETA: 6s"
          ]
        },
        {
          "output_type": "stream",
          "name": "stderr",
          "text": [
            "/usr/local/lib/python3.10/dist-packages/sklearn/base.py:432: UserWarning: X has feature names, but StandardScaler was fitted without feature names\n",
            "  warnings.warn(\n",
            "/usr/local/lib/python3.10/dist-packages/sklearn/base.py:432: UserWarning: X has feature names, but StandardScaler was fitted without feature names\n",
            "  warnings.warn(\n"
          ]
        },
        {
          "output_type": "stream",
          "name": "stdout",
          "text": [
            "1781/1781 [==============================] - 8s 4ms/step\n"
          ]
        }
      ]
    },
    {
      "cell_type": "code",
      "source": [
        "len(test_predictions)"
      ],
      "metadata": {
        "colab": {
          "base_uri": "https://localhost:8080/"
        },
        "id": "bmJPTWTo4wb9",
        "outputId": "1a843538-1cc9-4d8e-c0e9-b250ef360903"
      },
      "execution_count": 12,
      "outputs": [
        {
          "output_type": "execute_result",
          "data": {
            "text/plain": [
              "28488"
            ]
          },
          "metadata": {},
          "execution_count": 12
        }
      ]
    },
    {
      "cell_type": "code",
      "source": [
        "len(test_df)"
      ],
      "metadata": {
        "colab": {
          "base_uri": "https://localhost:8080/"
        },
        "id": "4OKzfdfk4zps",
        "outputId": "078127d8-d6df-41ed-f369-b660ea41490d"
      },
      "execution_count": 13,
      "outputs": [
        {
          "output_type": "execute_result",
          "data": {
            "text/plain": [
              "28488"
            ]
          },
          "metadata": {},
          "execution_count": 13
        }
      ]
    },
    {
      "cell_type": "code",
      "source": [
        "# Define a range of k values\n",
        "k_values = [1, 2, 5, 10, 20, 50]\n",
        "\n",
        "# Initialize lists to store precision and recall values\n",
        "precisions = []\n",
        "recalls = []\n",
        "\n",
        "# Calculate precision and recall at different values of k\n",
        "for k in k_values:\n",
        "    precisions_k, recalls_k = precision_recall_at_k(model, test_df, k=k, threshold=0.0001)\n",
        "    avg_precision_k = sum(prec for prec in precisions_k.values()) / len(precisions_k)\n",
        "    avg_recall_k = sum(rec for rec in recalls_k.values()) / len(recalls_k)\n",
        "    precisions.append(avg_precision_k)\n",
        "    recalls.append(avg_recall_k)\n",
        "\n",
        "# Plot precision and recall at different values of k\n",
        "plt.plot(k_values, precisions, label='Precision')\n",
        "plt.plot(k_values, recalls, label='Recall')\n",
        "plt.xlabel(' K')\n",
        "plt.ylabel('Score')\n",
        "plt.title(\"Plot of Precision and Recall against K (with Two Tower Model)\")\n",
        "plt.legend()\n",
        "plt.show()"
      ],
      "metadata": {
        "colab": {
          "base_uri": "https://localhost:8080/",
          "height": 1000
        },
        "id": "QXKq8K8F44c5",
        "outputId": "f24f8892-ae92-495f-d7a3-2db75c3530b9"
      },
      "execution_count": 21,
      "outputs": [
        {
          "output_type": "stream",
          "name": "stdout",
          "text": [
            "  19/1781 [..............................] - ETA: 5s "
          ]
        },
        {
          "output_type": "stream",
          "name": "stderr",
          "text": [
            "/usr/local/lib/python3.10/dist-packages/sklearn/base.py:432: UserWarning: X has feature names, but StandardScaler was fitted without feature names\n",
            "  warnings.warn(\n",
            "/usr/local/lib/python3.10/dist-packages/sklearn/base.py:432: UserWarning: X has feature names, but StandardScaler was fitted without feature names\n",
            "  warnings.warn(\n"
          ]
        },
        {
          "output_type": "stream",
          "name": "stdout",
          "text": [
            "1781/1781 [==============================] - 6s 3ms/step\n",
            "  57/1781 [..............................] - ETA: 3s"
          ]
        },
        {
          "output_type": "stream",
          "name": "stderr",
          "text": [
            "/usr/local/lib/python3.10/dist-packages/sklearn/base.py:432: UserWarning: X has feature names, but StandardScaler was fitted without feature names\n",
            "  warnings.warn(\n",
            "/usr/local/lib/python3.10/dist-packages/sklearn/base.py:432: UserWarning: X has feature names, but StandardScaler was fitted without feature names\n",
            "  warnings.warn(\n"
          ]
        },
        {
          "output_type": "stream",
          "name": "stdout",
          "text": [
            "1781/1781 [==============================] - 4s 2ms/step\n",
            "  53/1781 [..............................] - ETA: 3s"
          ]
        },
        {
          "output_type": "stream",
          "name": "stderr",
          "text": [
            "/usr/local/lib/python3.10/dist-packages/sklearn/base.py:432: UserWarning: X has feature names, but StandardScaler was fitted without feature names\n",
            "  warnings.warn(\n",
            "/usr/local/lib/python3.10/dist-packages/sklearn/base.py:432: UserWarning: X has feature names, but StandardScaler was fitted without feature names\n",
            "  warnings.warn(\n"
          ]
        },
        {
          "output_type": "stream",
          "name": "stdout",
          "text": [
            "1781/1781 [==============================] - 3s 2ms/step\n",
            "  52/1781 [..............................] - ETA: 3s"
          ]
        },
        {
          "output_type": "stream",
          "name": "stderr",
          "text": [
            "/usr/local/lib/python3.10/dist-packages/sklearn/base.py:432: UserWarning: X has feature names, but StandardScaler was fitted without feature names\n",
            "  warnings.warn(\n",
            "/usr/local/lib/python3.10/dist-packages/sklearn/base.py:432: UserWarning: X has feature names, but StandardScaler was fitted without feature names\n",
            "  warnings.warn(\n"
          ]
        },
        {
          "output_type": "stream",
          "name": "stdout",
          "text": [
            "1781/1781 [==============================] - 4s 2ms/step\n",
            "  37/1781 [..............................] - ETA: 4s"
          ]
        },
        {
          "output_type": "stream",
          "name": "stderr",
          "text": [
            "/usr/local/lib/python3.10/dist-packages/sklearn/base.py:432: UserWarning: X has feature names, but StandardScaler was fitted without feature names\n",
            "  warnings.warn(\n",
            "/usr/local/lib/python3.10/dist-packages/sklearn/base.py:432: UserWarning: X has feature names, but StandardScaler was fitted without feature names\n",
            "  warnings.warn(\n"
          ]
        },
        {
          "output_type": "stream",
          "name": "stdout",
          "text": [
            "1781/1781 [==============================] - 5s 3ms/step\n",
            "  39/1781 [..............................] - ETA: 4s"
          ]
        },
        {
          "output_type": "stream",
          "name": "stderr",
          "text": [
            "/usr/local/lib/python3.10/dist-packages/sklearn/base.py:432: UserWarning: X has feature names, but StandardScaler was fitted without feature names\n",
            "  warnings.warn(\n",
            "/usr/local/lib/python3.10/dist-packages/sklearn/base.py:432: UserWarning: X has feature names, but StandardScaler was fitted without feature names\n",
            "  warnings.warn(\n"
          ]
        },
        {
          "output_type": "stream",
          "name": "stdout",
          "text": [
            "1781/1781 [==============================] - 4s 2ms/step\n"
          ]
        },
        {
          "output_type": "display_data",
          "data": {
            "text/plain": [
              "<Figure size 640x480 with 1 Axes>"
            ],
            "image/png": "[encoded data removed]"
          },
          "metadata": {}
        }
      ]
    },
    {
      "cell_type": "code",
      "source": [
        "model.summary()\n"
      ],
      "metadata": {
        "colab": {
          "base_uri": "https://localhost:8080/"
        },
        "id": "_aIVPujr-kyD",
        "outputId": "c5ba84c1-ad9e-4b16-d4b5-7203f8fb9b7c"
      },
      "execution_count": 31,
      "outputs": [
        {
          "output_type": "stream",
          "name": "stdout",
          "text": [
            "Model: \"model\"\n",
            "__________________________________________________________________________________________________\n",
            " Layer (type)                Output Shape                 Param #   Connected to                  \n",
            "==================================================================================================\n",
            " user_input (InputLayer)     [(None, 1)]                  0         []                            \n",
            "                                                                                                  \n",
            " item_input (InputLayer)     [(None, 1)]                  0         []                            \n",
            "                                                                                                  \n",
            " embedding_1 (Embedding)     (None, 1, 10)                2681173   ['user_input[0][0]']          \n",
            "                                                          0                                       \n",
            "                                                                                                  \n",
            " embedding_2 (Embedding)     (None, 1, 10)                7582723   ['item_input[0][0]']          \n",
            "                                                          0                                       \n",
            "                                                                                                  \n",
            " flatten (Flatten)           (None, 10)                   0         ['embedding_1[0][0]']         \n",
            "                                                                                                  \n",
            " user_features_input (Input  [(None, 3)]                  0         []                            \n",
            " Layer)                                                                                           \n",
            "                                                                                                  \n",
            " flatten_1 (Flatten)         (None, 10)                   0         ['embedding_2[0][0]']         \n",
            "                                                                                                  \n",
            " item_features_input (Input  [(None, 4)]                  0         []                            \n",
            " Layer)                                                                                           \n",
            "                                                                                                  \n",
            " concatenate (Concatenate)   (None, 13)                   0         ['flatten[0][0]',             \n",
            "                                                                     'user_features_input[0][0]'] \n",
            "                                                                                                  \n",
            " concatenate_1 (Concatenate  (None, 14)                   0         ['flatten_1[0][0]',           \n",
            " )                                                                   'item_features_input[0][0]'] \n",
            "                                                                                                  \n",
            " concatenate_2 (Concatenate  (None, 27)                   0         ['concatenate[0][0]',         \n",
            " )                                                                   'concatenate_1[0][0]']       \n",
            "                                                                                                  \n",
            " dropout (Dropout)           (None, 27)                   0         ['concatenate_2[0][0]']       \n",
            "                                                                                                  \n",
            " dense (Dense)               (None, 64)                   1792      ['dropout[0][0]']             \n",
            "                                                                                                  \n",
            " dropout_1 (Dropout)         (None, 64)                   0         ['dense[0][0]']               \n",
            "                                                                                                  \n",
            " dense_1 (Dense)             (None, 32)                   2080      ['dropout_1[0][0]']           \n",
            "                                                                                                  \n",
            " dense_2 (Dense)             (None, 1)                    33        ['dense_1[0][0]']             \n",
            "                                                                                                  \n",
            " tf.math.multiply (TFOpLamb  (None, 1)                    0         ['dense_2[0][0]']             \n",
            " da)                                                                                              \n",
            "                                                                                                  \n",
            "==================================================================================================\n",
            "Total params: 102642865 (391.55 MB)\n",
            "Trainable params: 102642865 (391.55 MB)\n",
            "Non-trainable params: 0 (0.00 Byte)\n",
            "__________________________________________________________________________________________________\n"
          ]
        }
      ]
    },
    {
      "cell_type": "code",
      "source": [
        "import networkx as nx\n"
      ],
      "metadata": {
        "id": "7APY4c-u-Dqv"
      },
      "execution_count": 25,
      "outputs": []
    },
    {
      "cell_type": "code",
      "source": [
        "# Filter predictions for 5 users\n",
        "user_ids_to_visualize = data['userid'].unique()[:5]\n",
        "\n",
        "# Get predictions for the test set\n",
        "test_predictions = model.predict(\n",
        "    [test_df['userid'], scaler_user.transform(test_df[['user_pins_count', 'user_checkin_num', 'user_trips_count']]),\n",
        "     test_df['placeid'], scaler_item.transform(test_df[['lat','lng','place_photos_count', 'place_checkins_count']])],\n",
        "    batch_size=16\n",
        ")\n",
        "\n",
        "# Set a threshold for relevance\n",
        "threshold = 7  # Adjust this threshold based on your ratings scale\n",
        "\n",
        "# Convert predicted ratings to binary relevance using the threshold\n",
        "binary_predictions = (test_predictions >= threshold).astype(int)\n",
        "\n",
        "# Create a graph\n",
        "G = nx.Graph()\n",
        "\n",
        "# Add nodes for users and recommended places\n",
        "for user_id in user_ids_to_visualize:\n",
        "    G.add_node(user_id, label=f'User {user_id}', color='blue', size=20)\n",
        "    user_predictions = binary_predictions[test_df['userid'] == user_id]\n",
        "    top_recommendations = np.argsort(user_predictions)[::-1][:4]\n",
        "    print(place_id)\n",
        "    for place_id in top_recommendations:\n",
        "        place_name = data.loc[data['placeid'] == place_id, 'place_name'].values[0]\n",
        "        G.add_node(place_id, label=f'{place_name}\\nPlace ID: {place_id}', color='green', size=10)\n",
        "        G.add_edge(user_id, place_id)\n",
        "\n",
        "# Add nodes for places already visited by the same users\n",
        "visited_places = data[data['userid'].isin(user_ids_to_visualize)].groupby('userid').apply(lambda x: x.sample(n=2)).reset_index(drop=True)\n",
        "for _, row in visited_places.iterrows():\n",
        "    user_id = row['userid']\n",
        "    place_id = row['placeid']\n",
        "    place_name = row['place_name']\n",
        "    G.add_node(place_id, label=f'{place_name}\\nPlace ID: {place_id}', color='red', size=15)\n",
        "    G.add_edge(user_id, place_id)\n",
        "\n",
        "# Set node colors based on 'color' attribute\n",
        "node_colors = [G.nodes[node]['color'] for node in G.nodes]\n",
        "\n",
        "# Set node sizes based on 'size' attribute\n",
        "node_sizes = [G.nodes[node]['size'] * 100 for node in G.nodes]\n",
        "\n",
        "# Set node labels based on 'label' attribute\n",
        "node_labels = {node: G.nodes[node]['label'] for node in G.nodes}\n",
        "\n",
        "# Create a layout for our nodes (using Kamada-Kawai layout in this example)\n",
        "pos = nx.spring_layout(G, k=0.6)\n",
        "plt.figure(figsize=(15, 15))\n",
        "\n",
        "# Draw the network with node labels\n",
        "nx.draw_networkx_labels(G, pos, labels=node_labels, font_size=8, font_color='black', font_weight='bold')\n",
        "nx.draw_networkx_edges(G, pos, edge_color='gray', alpha=0.5)  # Default edge color and alpha\n",
        "nx.draw(G, pos, with_labels=False, node_color=node_colors, node_size=node_sizes, font_size=8, font_color='black', font_weight='bold')\n",
        "\n",
        "# Create a legend\n",
        "legend_labels = {'Recommended Places': 'green', 'Visited Places': 'red', 'Users': 'blue'}\n",
        "legend_elements = [plt.Line2D([0], [0], marker='o', color='w', label=label, markerfacecolor=color, markersize=10) for label, color in legend_labels.items()]\n",
        "\n",
        "# Display the legend\n",
        "plt.legend(handles=legend_elements, loc='upper left')\n",
        "\n",
        "# Show the plot\n",
        "plt.title(\"Recommendations with Collaborative Filtering Model\")\n",
        "plt.show()"
      ],
      "metadata": {
        "colab": {
          "base_uri": "https://localhost:8080/",
          "height": 515
        },
        "id": "RzzTN3tK76t7",
        "outputId": "9a5de156-ac1f-4a6f-ee13-09eb773c1c8c"
      },
      "execution_count": 27,
      "outputs": [
        {
          "output_type": "stream",
          "name": "stdout",
          "text": [
            "\r   1/1781 [..............................] - ETA: 1:42"
          ]
        },
        {
          "output_type": "stream",
          "name": "stderr",
          "text": [
            "/usr/local/lib/python3.10/dist-packages/sklearn/base.py:432: UserWarning: X has feature names, but StandardScaler was fitted without feature names\n",
            "  warnings.warn(\n",
            "/usr/local/lib/python3.10/dist-packages/sklearn/base.py:432: UserWarning: X has feature names, but StandardScaler was fitted without feature names\n",
            "  warnings.warn(\n"
          ]
        },
        {
          "output_type": "stream",
          "name": "stdout",
          "text": [
            "1781/1781 [==============================] - 6s 3ms/step\n",
            "[0]\n"
          ]
        },
        {
          "output_type": "error",
          "ename": "ValueError",
          "evalue": "ignored",
          "traceback": [
            "\u001b[0;31m---------------------------------------------------------------------------\u001b[0m",
            "\u001b[0;31mValueError\u001b[0m                                Traceback (most recent call last)",
            "\u001b[0;32m<ipython-input-27-eede0811e39b>\u001b[0m in \u001b[0;36m<cell line: 21>\u001b[0;34m()\u001b[0m\n\u001b[1;32m     25\u001b[0m     \u001b[0mprint\u001b[0m\u001b[0;34m(\u001b[0m\u001b[0mplace_id\u001b[0m\u001b[0;34m)\u001b[0m\u001b[0;34m\u001b[0m\u001b[0;34m\u001b[0m\u001b[0m\n\u001b[1;32m     26\u001b[0m     \u001b[0;32mfor\u001b[0m \u001b[0mplace_id\u001b[0m \u001b[0;32min\u001b[0m \u001b[0mtop_recommendations\u001b[0m\u001b[0;34m:\u001b[0m\u001b[0;34m\u001b[0m\u001b[0;34m\u001b[0m\u001b[0m\n\u001b[0;32m---> 27\u001b[0;31m         \u001b[0mplace_name\u001b[0m \u001b[0;34m=\u001b[0m \u001b[0mdata\u001b[0m\u001b[0;34m.\u001b[0m\u001b[0mloc\u001b[0m\u001b[0;34m[\u001b[0m\u001b[0mdata\u001b[0m\u001b[0;34m[\u001b[0m\u001b[0;34m'placeid'\u001b[0m\u001b[0;34m]\u001b[0m \u001b[0;34m==\u001b[0m \u001b[0mplace_id\u001b[0m\u001b[0;34m,\u001b[0m \u001b[0;34m'place_name'\u001b[0m\u001b[0;34m]\u001b[0m\u001b[0;34m.\u001b[0m\u001b[0mvalues\u001b[0m\u001b[0;34m[\u001b[0m\u001b[0;36m0\u001b[0m\u001b[0;34m]\u001b[0m\u001b[0;34m\u001b[0m\u001b[0;34m\u001b[0m\u001b[0m\n\u001b[0m\u001b[1;32m     28\u001b[0m         \u001b[0mG\u001b[0m\u001b[0;34m.\u001b[0m\u001b[0madd_node\u001b[0m\u001b[0;34m(\u001b[0m\u001b[0mplace_id\u001b[0m\u001b[0;34m,\u001b[0m \u001b[0mlabel\u001b[0m\u001b[0;34m=\u001b[0m\u001b[0;34mf'{place_name}\\nPlace ID: {place_id}'\u001b[0m\u001b[0;34m,\u001b[0m \u001b[0mcolor\u001b[0m\u001b[0;34m=\u001b[0m\u001b[0;34m'green'\u001b[0m\u001b[0;34m,\u001b[0m \u001b[0msize\u001b[0m\u001b[0;34m=\u001b[0m\u001b[0;36m10\u001b[0m\u001b[0;34m)\u001b[0m\u001b[0;34m\u001b[0m\u001b[0;34m\u001b[0m\u001b[0m\n\u001b[1;32m     29\u001b[0m         \u001b[0mG\u001b[0m\u001b[0;34m.\u001b[0m\u001b[0madd_edge\u001b[0m\u001b[0;34m(\u001b[0m\u001b[0muser_id\u001b[0m\u001b[0;34m,\u001b[0m \u001b[0mplace_id\u001b[0m\u001b[0;34m)\u001b[0m\u001b[0;34m\u001b[0m\u001b[0;34m\u001b[0m\u001b[0m\n",
            "\u001b[0;32m/usr/local/lib/python3.10/dist-packages/pandas/core/ops/common.py\u001b[0m in \u001b[0;36mnew_method\u001b[0;34m(self, other)\u001b[0m\n\u001b[1;32m     70\u001b[0m         \u001b[0mother\u001b[0m \u001b[0;34m=\u001b[0m \u001b[0mitem_from_zerodim\u001b[0m\u001b[0;34m(\u001b[0m\u001b[0mother\u001b[0m\u001b[0;34m)\u001b[0m\u001b[0;34m\u001b[0m\u001b[0;34m\u001b[0m\u001b[0m\n\u001b[1;32m     71\u001b[0m \u001b[0;34m\u001b[0m\u001b[0m\n\u001b[0;32m---> 72\u001b[0;31m         \u001b[0;32mreturn\u001b[0m \u001b[0mmethod\u001b[0m\u001b[0;34m(\u001b[0m\u001b[0mself\u001b[0m\u001b[0;34m,\u001b[0m \u001b[0mother\u001b[0m\u001b[0;34m)\u001b[0m\u001b[0;34m\u001b[0m\u001b[0;34m\u001b[0m\u001b[0m\n\u001b[0m\u001b[1;32m     73\u001b[0m \u001b[0;34m\u001b[0m\u001b[0m\n\u001b[1;32m     74\u001b[0m     \u001b[0;32mreturn\u001b[0m \u001b[0mnew_method\u001b[0m\u001b[0;34m\u001b[0m\u001b[0;34m\u001b[0m\u001b[0m\n",
            "\u001b[0;32m/usr/local/lib/python3.10/dist-packages/pandas/core/arraylike.py\u001b[0m in \u001b[0;36m__eq__\u001b[0;34m(self, other)\u001b[0m\n\u001b[1;32m     40\u001b[0m     \u001b[0;34m@\u001b[0m\u001b[0munpack_zerodim_and_defer\u001b[0m\u001b[0;34m(\u001b[0m\u001b[0;34m\"__eq__\"\u001b[0m\u001b[0;34m)\u001b[0m\u001b[0;34m\u001b[0m\u001b[0;34m\u001b[0m\u001b[0m\n\u001b[1;32m     41\u001b[0m     \u001b[0;32mdef\u001b[0m \u001b[0m__eq__\u001b[0m\u001b[0;34m(\u001b[0m\u001b[0mself\u001b[0m\u001b[0;34m,\u001b[0m \u001b[0mother\u001b[0m\u001b[0;34m)\u001b[0m\u001b[0;34m:\u001b[0m\u001b[0;34m\u001b[0m\u001b[0;34m\u001b[0m\u001b[0m\n\u001b[0;32m---> 42\u001b[0;31m         \u001b[0;32mreturn\u001b[0m \u001b[0mself\u001b[0m\u001b[0;34m.\u001b[0m\u001b[0m_cmp_method\u001b[0m\u001b[0;34m(\u001b[0m\u001b[0mother\u001b[0m\u001b[0;34m,\u001b[0m \u001b[0moperator\u001b[0m\u001b[0;34m.\u001b[0m\u001b[0meq\u001b[0m\u001b[0;34m)\u001b[0m\u001b[0;34m\u001b[0m\u001b[0;34m\u001b[0m\u001b[0m\n\u001b[0m\u001b[1;32m     43\u001b[0m \u001b[0;34m\u001b[0m\u001b[0m\n\u001b[1;32m     44\u001b[0m     \u001b[0;34m@\u001b[0m\u001b[0munpack_zerodim_and_defer\u001b[0m\u001b[0;34m(\u001b[0m\u001b[0;34m\"__ne__\"\u001b[0m\u001b[0;34m)\u001b[0m\u001b[0;34m\u001b[0m\u001b[0;34m\u001b[0m\u001b[0m\n",
            "\u001b[0;32m/usr/local/lib/python3.10/dist-packages/pandas/core/series.py\u001b[0m in \u001b[0;36m_cmp_method\u001b[0;34m(self, other, op)\u001b[0m\n\u001b[1;32m   6241\u001b[0m \u001b[0;34m\u001b[0m\u001b[0m\n\u001b[1;32m   6242\u001b[0m         \u001b[0;32mwith\u001b[0m \u001b[0mnp\u001b[0m\u001b[0;34m.\u001b[0m\u001b[0merrstate\u001b[0m\u001b[0;34m(\u001b[0m\u001b[0mall\u001b[0m\u001b[0;34m=\u001b[0m\u001b[0;34m\"ignore\"\u001b[0m\u001b[0;34m)\u001b[0m\u001b[0;34m:\u001b[0m\u001b[0;34m\u001b[0m\u001b[0;34m\u001b[0m\u001b[0m\n\u001b[0;32m-> 6243\u001b[0;31m             \u001b[0mres_values\u001b[0m \u001b[0;34m=\u001b[0m \u001b[0mops\u001b[0m\u001b[0;34m.\u001b[0m\u001b[0mcomparison_op\u001b[0m\u001b[0;34m(\u001b[0m\u001b[0mlvalues\u001b[0m\u001b[0;34m,\u001b[0m \u001b[0mrvalues\u001b[0m\u001b[0;34m,\u001b[0m \u001b[0mop\u001b[0m\u001b[0;34m)\u001b[0m\u001b[0;34m\u001b[0m\u001b[0;34m\u001b[0m\u001b[0m\n\u001b[0m\u001b[1;32m   6244\u001b[0m \u001b[0;34m\u001b[0m\u001b[0m\n\u001b[1;32m   6245\u001b[0m         \u001b[0;32mreturn\u001b[0m \u001b[0mself\u001b[0m\u001b[0;34m.\u001b[0m\u001b[0m_construct_result\u001b[0m\u001b[0;34m(\u001b[0m\u001b[0mres_values\u001b[0m\u001b[0;34m,\u001b[0m \u001b[0mname\u001b[0m\u001b[0;34m=\u001b[0m\u001b[0mres_name\u001b[0m\u001b[0;34m)\u001b[0m\u001b[0;34m\u001b[0m\u001b[0;34m\u001b[0m\u001b[0m\n",
            "\u001b[0;32m/usr/local/lib/python3.10/dist-packages/pandas/core/ops/array_ops.py\u001b[0m in \u001b[0;36mcomparison_op\u001b[0;34m(left, right, op)\u001b[0m\n\u001b[1;32m    262\u001b[0m         \u001b[0;31m#  The ambiguous case is object-dtype.  See GH#27803\u001b[0m\u001b[0;34m\u001b[0m\u001b[0;34m\u001b[0m\u001b[0m\n\u001b[1;32m    263\u001b[0m         \u001b[0;32mif\u001b[0m \u001b[0mlen\u001b[0m\u001b[0;34m(\u001b[0m\u001b[0mlvalues\u001b[0m\u001b[0;34m)\u001b[0m \u001b[0;34m!=\u001b[0m \u001b[0mlen\u001b[0m\u001b[0;34m(\u001b[0m\u001b[0mrvalues\u001b[0m\u001b[0;34m)\u001b[0m\u001b[0;34m:\u001b[0m\u001b[0;34m\u001b[0m\u001b[0;34m\u001b[0m\u001b[0m\n\u001b[0;32m--> 264\u001b[0;31m             raise ValueError(\n\u001b[0m\u001b[1;32m    265\u001b[0m                 \u001b[0;34m\"Lengths must match to compare\"\u001b[0m\u001b[0;34m,\u001b[0m \u001b[0mlvalues\u001b[0m\u001b[0;34m.\u001b[0m\u001b[0mshape\u001b[0m\u001b[0;34m,\u001b[0m \u001b[0mrvalues\u001b[0m\u001b[0;34m.\u001b[0m\u001b[0mshape\u001b[0m\u001b[0;34m\u001b[0m\u001b[0;34m\u001b[0m\u001b[0m\n\u001b[1;32m    266\u001b[0m             )\n",
            "\u001b[0;31mValueError\u001b[0m: ('Lengths must match to compare', (142439,), (1,))"
          ]
        }
      ]
    },
    {
      "cell_type": "code",
      "source": [
        "all_predictions = model.predict([\n",
        "    np.array(test_df['userid']),\n",
        "    scaler_user.transform(test_df[['user_pins_count', 'user_checkin_num', 'user_trips_count']]),\n",
        "    np.array(test_df['placeid']),\n",
        "    scaler_item.transform(test_df[['lat', 'lng', 'place_photos_count', 'place_checkins_count']])\n",
        "]).flatten()\n",
        "\n",
        "# Add the predictions to the DataFrame\n",
        "test_df['predictions'] = all_predictions\n",
        "\n",
        "# Iterate over each user and get top 5 recommendations\n",
        "user_ids = test_df['userid'].unique()[:5]\n",
        "\n",
        "for user_id in user_ids:\n",
        "    # Get the top 5 recommendations for the current user\n",
        "    user_recommendations = test_df[test_df['userid'] == user_id].nlargest(5, 'predictions')\n",
        "\n",
        "    # Display user-specific recommendations\n",
        "    print(f\"\\nTop 5 Recommendations for User {user_id}:\")\n",
        "    for _, row in user_recommendations.iterrows():\n",
        "        place_id = row['placeid']\n",
        "        prediction = row['predictions']\n",
        "\n",
        "        # Get place name from the original data\n",
        "        place_name = data.loc[data['placeid'] == place_id, 'place_name'].values[0]\n",
        "\n",
        "        print(f\"Place ID: {place_id}, Place Name: {place_name}\")"
      ],
      "metadata": {
        "colab": {
          "base_uri": "https://localhost:8080/"
        },
        "id": "Ey7pKeJV99eF",
        "outputId": "5ef30f21-a32d-4a6b-f90c-20a20a6c9b75"
      },
      "execution_count": 37,
      "outputs": [
        {
          "output_type": "stream",
          "name": "stdout",
          "text": [
            " 12/891 [..............................] - ETA: 4s "
          ]
        },
        {
          "output_type": "stream",
          "name": "stderr",
          "text": [
            "/usr/local/lib/python3.10/dist-packages/sklearn/base.py:432: UserWarning: X has feature names, but StandardScaler was fitted without feature names\n",
            "  warnings.warn(\n",
            "/usr/local/lib/python3.10/dist-packages/sklearn/base.py:432: UserWarning: X has feature names, but StandardScaler was fitted without feature names\n",
            "  warnings.warn(\n"
          ]
        },
        {
          "output_type": "stream",
          "name": "stdout",
          "text": [
            "891/891 [==============================] - 3s 3ms/step\n",
            "\n",
            "Top 5 Recommendations for User 9458:\n",
            "Place ID: 7224507, Place Name: Bona Fides\n",
            "Place ID: 292657, Place Name: Salon De Ning\n",
            "Place ID: 27836, Place Name: The Chelsea Market\n",
            "Place ID: 284775, Place Name: Clinton St. Baking Company\n",
            "\n",
            "Top 5 Recommendations for User 74284:\n",
            "Place ID: 1391695, Place Name: Totale Pizza\n",
            "Place ID: 579505, Place Name: Robongi\n",
            "Place ID: 11720, Place Name: Yankee Stadium\n",
            "Place ID: 167378, Place Name: Tapéo 29\n",
            "Place ID: 59533, Place Name: Katsu-Hama\n",
            "\n",
            "Top 5 Recommendations for User 185554:\n",
            "Place ID: 12505, Place Name: LGA LaGuardia Airport\n",
            "Place ID: 11738, Place Name: Battery Park\n",
            "Place ID: 11978, Place Name: Statue of Liberty Pier\n",
            "Place ID: 11975, Place Name: Statue of Liberty\n",
            "\n",
            "Top 5 Recommendations for User 309599:\n",
            "Place ID: 177792, Place Name: Midtown Tunnel\n",
            "Place ID: 286318, Place Name: Jeffrey New York\n",
            "Place ID: 194358, Place Name: Pastis\n",
            "Place ID: 611928, Place Name: Starbucks\n",
            "Place ID: 748402, Place Name: Angel Orensanz Foundation\n",
            "\n",
            "Top 5 Recommendations for User 300839:\n",
            "Place ID: 65871, Place Name: Prime Meats\n",
            "Place ID: 234307, Place Name: LGA Marine Air Terminal\n",
            "Place ID: 19762, Place Name: Apple Store, SoHo\n",
            "Place ID: 486265, Place Name: Coco Roco\n",
            "Place ID: 440680, Place Name: Washington Square Arch\n"
          ]
        }
      ]
    },
    {
      "cell_type": "code",
      "source": [
        "model.save(\"tow_tower.h5\")"
      ],
      "metadata": {
        "colab": {
          "base_uri": "https://localhost:8080/"
        },
        "id": "lPFCvOYF_nfL",
        "outputId": "3160d874-2987-465e-ec7e-580c7fae75a6"
      },
      "execution_count": 38,
      "outputs": [
        {
          "output_type": "stream",
          "name": "stderr",
          "text": [
            "/usr/local/lib/python3.10/dist-packages/keras/src/engine/training.py:3079: UserWarning: You are saving your model as an HDF5 file via `model.save()`. This file format is considered legacy. We recommend using instead the native Keras format, e.g. `model.save('my_model.keras')`.\n",
            "  saving_api.save_model(\n"
          ]
        }
      ]
    },
    {
      "cell_type": "code",
      "source": [],
      "metadata": {
        "id": "QTLZhV_4BmJx"
      },
      "execution_count": null,
      "outputs": []
    }
  ]
}